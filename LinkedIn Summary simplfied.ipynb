{
 "cells": [
  {
   "cell_type": "code",
   "execution_count": 68,
   "id": "fd93e6a5",
   "metadata": {},
   "outputs": [],
   "source": [
    "import parameters\n",
    "from time import sleep\n",
    "from selenium import webdriver\n",
    "from selenium.webdriver.common.keys import Keys"
   ]
  },
  {
   "cell_type": "code",
   "execution_count": 69,
   "id": "d8f611ac",
   "metadata": {},
   "outputs": [
    {
     "name": "stderr",
     "output_type": "stream",
     "text": [
      "C:\\Users\\elam2\\AppData\\Local\\Temp/ipykernel_448/221464012.py:5: DeprecationWarning: executable_path has been deprecated, please pass in a Service object\n",
      "  driver = webdriver.Chrome(PATH)\n"
     ]
    }
   ],
   "source": [
    "from selenium import webdriver \n",
    "\n",
    "PATH = \"chromedriver.exe\" \n",
    "\n",
    "options = Options()\n",
    "options.add_argument(\"--headless\")\n",
    "options.add_argument(\"--no-sandbox\")\n",
    "options.add_argument(\"--disable-dev-shm-usage\")\n",
    "options.add_argument(\"--disable-gpu\")\n",
    "options.add_argument(\"--disable-features=NetworkService\")\n",
    "options.add_argument(\"--window-size=1920x1080\")\n",
    "options.add_argument(\"--disable-features=VizDisplayCompositor\")\n",
    "\n",
    "driver = webdriver.Chrome(PATH, options=options) \n",
    "\n",
    "driver.get(\"https://www.linkedin.com\")\n",
    "\n",
    "sleep(3)"
   ]
  },
  {
   "cell_type": "code",
   "execution_count": 70,
   "id": "d593f564",
   "metadata": {},
   "outputs": [
    {
     "name": "stderr",
     "output_type": "stream",
     "text": [
      "C:\\Users\\elam2\\AppData\\Local\\Temp/ipykernel_448/1944586232.py:1: DeprecationWarning: find_element_by_class_name is deprecated. Please use find_element(by=By.CLASS_NAME, value=name) instead\n",
      "  username = driver.find_element_by_class_name('input__input')\n",
      "C:\\Users\\elam2\\AppData\\Local\\Temp/ipykernel_448/1944586232.py:7: DeprecationWarning: find_element_by_* commands are deprecated. Please use find_element() instead\n",
      "  password = driver.find_element_by_id('session_password')\n"
     ]
    }
   ],
   "source": [
    "username = driver.find_element_by_class_name('input__input')\n",
    "\n",
    "username.send_keys('edward_lam@vfc.com')\n",
    "\n",
    "sleep(0.5)\n",
    "\n",
    "password = driver.find_element_by_id('session_password')\n",
    "\n",
    "password.send_keys('Today2022') \n",
    "\n",
    "sleep(0.5)"
   ]
  },
  {
   "cell_type": "code",
   "execution_count": 71,
   "id": "4a57b6cf",
   "metadata": {},
   "outputs": [
    {
     "name": "stderr",
     "output_type": "stream",
     "text": [
      "C:\\Users\\elam2\\AppData\\Local\\Temp/ipykernel_448/1689031501.py:1: DeprecationWarning: find_element_by_class_name is deprecated. Please use find_element(by=By.CLASS_NAME, value=name) instead\n",
      "  log_in_button = driver.find_element_by_class_name('sign-in-form__submit-button')\n"
     ]
    }
   ],
   "source": [
    "log_in_button = driver.find_element_by_class_name('sign-in-form__submit-button') \n",
    "\n",
    "log_in_button.click()"
   ]
  },
  {
   "cell_type": "code",
   "execution_count": 72,
   "id": "474bc99f",
   "metadata": {},
   "outputs": [],
   "source": [
    "from selenium.webdriver.common.by import By\n",
    "\n",
    "driver.get(\"https://www.google.com\")\n",
    "\n",
    "sleep(3)\n",
    "\n",
    "#search_query = driver.find_element_by_name('q')\n",
    "search_query = driver.find_element(by=By.NAME, value='q')\n",
    "\n",
    "search_query.send_keys('site:linkedin.com/in/ AND \"CHONG FAI EDWARD LAM\" AND \"VF\"')\n",
    "\n",
    "sleep(0.5)\n",
    "\n",
    "search_query.send_keys(Keys.RETURN)\n",
    "\n",
    "sleep(3)\n"
   ]
  },
  {
   "cell_type": "code",
   "execution_count": 73,
   "id": "826789d1",
   "metadata": {},
   "outputs": [
    {
     "name": "stderr",
     "output_type": "stream",
     "text": [
      "C:\\Users\\elam2\\AppData\\Local\\Temp/ipykernel_448/301742697.py:2: DeprecationWarning: find_elements_by_xpath is deprecated. Please use find_elements(by=By.XPATH, value=xpath) instead\n",
      "  myLinks=driver.find_elements_by_xpath('//*[@id=\"rso\"]/div[1]/div/div/div[1]/div/a')\n"
     ]
    }
   ],
   "source": [
    "#linkedin_urls = driver.find_elements_by_class_name('yuRUbf')\n",
    "myLinks=driver.find_elements_by_xpath('//*[@id=\"rso\"]/div[1]/div/div/div[1]/div/a')\n",
    "\n",
    "#candidate_urls = [url.get_attribute('href') for url in linkedin_urls]\n",
    "sleep(0.5)\n",
    "\n",
    "candidate_url = []\n",
    "\n",
    "for link in myLinks:\n",
    "    candidate_url.append(link.get_attribute(\"href\"))\n",
    "\n",
    "#driver.quit()"
   ]
  },
  {
   "cell_type": "code",
   "execution_count": 74,
   "id": "ec96e5ca",
   "metadata": {},
   "outputs": [],
   "source": [
    "driver.get(candidate_url[0])\n",
    "sleep(3)"
   ]
  },
  {
   "cell_type": "code",
   "execution_count": 75,
   "id": "6707bfd1",
   "metadata": {},
   "outputs": [],
   "source": [
    "from parsel import Selector \n",
    "\n",
    "sel = Selector(text=driver.page_source)"
   ]
  },
  {
   "cell_type": "code",
   "execution_count": 76,
   "id": "a422e8e0",
   "metadata": {},
   "outputs": [],
   "source": [
    "#Get basic info from profile\n",
    "profile_list = []\n",
    "\n",
    "name = sel.xpath('/html/body/div[6]/div[3]/div/div/div[2]/div/div/main/section[1]/div[2]/div[2]/div[1]/div[1]/h1/text()').extract_first()\n",
    "\n",
    "if name:\n",
    "    name = name.strip()\n",
    "\n",
    "job_title = sel.xpath('/html/body/div[6]/div[3]/div/div/div[2]/div/div/main/section[1]/div[2]/div[2]/div[1]/div[2]/text()').extract_first()\n",
    "\n",
    "if job_title:\n",
    "    job_title = job_title.strip()\n",
    "\n",
    "company = sel.xpath('//*[@id=\"ember36\"]/div[2]/div[2]/ul/li[1]/a/h2/div/text()').extract_first()\n",
    "\n",
    "if company:\n",
    "    company = company.strip()\n",
    "\n",
    "university = sel.xpath('//*[@id=\"ember36\"]/div[2]/div[2]/ul/li[2]/a/h2/div/text()').extract_first()\n",
    "\n",
    "if university:\n",
    "    university = university.strip()\n",
    "\n",
    "location = sel.xpath('//*[@id=\"ember36\"]/div[2]/div[2]/div[2]/span[1]/text()').extract_first()\n",
    "\n",
    "if location:\n",
    "    location = location.strip()\n",
    "    \n",
    "for span in sel.xpath(\"//span[contains(@class, 'visually-hidden')]\"):\n",
    "    \n",
    "        profile_list.append(span.xpath('./text()').get())\n",
    "        \n",
    "about_index = [idx for idx, s in enumerate(profile_list[1:]) if 'About' in s][0]\n",
    "\n",
    "about = profile_list[about_index+2]\n",
    "\n",
    "linkedin_url = driver.current_url"
   ]
  },
  {
   "cell_type": "code",
   "execution_count": 77,
   "id": "9e1ee56f",
   "metadata": {},
   "outputs": [],
   "source": [
    "#build details page from homepage\n",
    "linkedin_url = linkedin_url.split('?')[0]\n",
    "\n",
    "activity_url = linkedin_url + 'recent-activity'\n",
    "interest_url = linkedin_url + 'details/interests/'\n",
    "skills_url = linkedin_url + 'details/skills/'\n",
    "languages_url = linkedin_url + 'details/languages/'\n",
    "exp_url = linkedin_url + 'details/experience/'\n",
    "education_url = linkedin_url + 'details/education/'\n",
    "license_url = linkedin_url + 'details/certifications/'\n",
    "project_url = linkedin_url + 'details/projects/'"
   ]
  },
  {
   "cell_type": "code",
   "execution_count": 78,
   "id": "eb573503",
   "metadata": {},
   "outputs": [],
   "source": [
    "from itertools import zip_longest\n",
    "#build helper function\n",
    "def grouper(iterable, n, fillvalue=None):\n",
    "# Collect data into fixed-length chunks or blocks\"\n",
    "# grouper('ABCDEFG', 3, 'x') --> ABC DEF Gxx\n",
    "    args = [iter(iterable)] * n\n",
    "    return zip_longest(fillvalue=fillvalue, *args)\n",
    "\n",
    "def get_content_from_url(exp_url, driver):\n",
    "    \n",
    "    full_list = []\n",
    "    item_list = []\n",
    "\n",
    "    driver.get(exp_url)\n",
    "    sleep(3)\n",
    "\n",
    "    sel = Selector(text=driver.page_source)\n",
    "    \n",
    "    for span in sel.xpath(\"//span[contains(@class, 'visually-hidden')]\"):\n",
    "    \n",
    "        full_list.append(span.xpath('./text()').get())\n",
    "\n",
    "    for span in sel.xpath(\"//span[contains(@class, 't-bold mr1')]/span[contains(@class, 'visually-hidden')]\"):\n",
    "    \n",
    "        item_list.append(span.xpath('./text()').get())\n",
    "        \n",
    "    return full_list, item_list\n",
    "\n",
    "def breakdown_list(full_list, item_list):\n",
    "    \n",
    "    final_list = []\n",
    "    sub_list = []\n",
    "    \n",
    "    for item in full_list[1:]:\n",
    "        if item != Start_stop:\n",
    "            if any(item == s for s in item_list):\n",
    "            \n",
    "                final_list.append(sub_list)\n",
    "                sub_list = []\n",
    "                \n",
    "            sub_list.append(item)\n",
    "\n",
    "    return final_list[1:]"
   ]
  },
  {
   "cell_type": "code",
   "execution_count": 79,
   "id": "5a0abfc0",
   "metadata": {},
   "outputs": [],
   "source": [
    "#Get details of the profile page\n",
    "#for span in sel.xpath('//span'):\n",
    "    \n",
    "#    print(span.xpath('./text()').get())\n",
    "\n",
    "Start_stop = '\\n      Status is '\n",
    "\n",
    "#get experience\n",
    "experience, role = get_content_from_url(exp_url, driver)\n",
    "role_n_exp = breakdown_list(experience, role)\n",
    "\n",
    "#get language\n",
    "language, lang = get_content_from_url(languages_url, driver)\n",
    "language_list = breakdown_list(language, lang)\n",
    "\n",
    "#get skill\n",
    "skill, skl = get_content_from_url(skills_url, driver)\n",
    "skill_list = breakdown_list(skill, skl)\n",
    "\n",
    "#get interest\n",
    "interest, interest_desc = get_content_from_url(interest_url, driver)\n",
    "interest_list = breakdown_list(interest, interest_desc)\n",
    "\n",
    "#get education\n",
    "education, education_desc = get_content_from_url(education_url, driver)\n",
    "education_list = breakdown_list(education, education_desc)\n",
    "\n",
    "#get license\n",
    "license, license_desc = get_content_from_url(license_url, driver)\n",
    "license_list = breakdown_list(license, license_desc)\n",
    "\n",
    "#get projects\n",
    "project, project_desc = get_content_from_url(project_url, driver)\n",
    "project_list = breakdown_list(project, project_desc)"
   ]
  },
  {
   "cell_type": "code",
   "execution_count": 80,
   "id": "d05f712e",
   "metadata": {},
   "outputs": [],
   "source": [
    "driver.quit()"
   ]
  },
  {
   "cell_type": "code",
   "execution_count": 81,
   "id": "bc935588",
   "metadata": {},
   "outputs": [
    {
     "data": {
      "text/plain": [
       "[['NLP Model and Topic modeller',\n",
       "  'Feb 2021 - Present',\n",
       "  'Associated with VF Corporation',\n",
       "  'Creation of a NLP model that could extract keywords from a customer reviews and identify its topic']]"
      ]
     },
     "execution_count": 81,
     "metadata": {},
     "output_type": "execute_result"
    }
   ],
   "source": [
    "project_list"
   ]
  },
  {
   "cell_type": "code",
   "execution_count": 87,
   "id": "6e800d67",
   "metadata": {},
   "outputs": [
    {
     "data": {
      "text/plain": [
       "'Specialized in machine learning and data mining, I have participated in projects that involved Natural Language Processing to classify user feedbacks into useful business insight; Time series forecasting to evaluate monthly inventory turnover and an RFM (recency, frequency, monetary) segmentation project making use of Graph database.\\n\\nI also has experience in overseeing data ingestion project to Amazon AWS. In my last position, I had hand-on experience from data mapping, data ingestion using Airflow and Glue to S3 and redshift data warehouse as well as visualization of the data using Tableau Dashboard.\\n\\nMy strength is to mix and match my solid technical knowledge to produce quick solution to produce different business products, I also keep abreast of the state-of-art AI algorithms and development in both academia and industry.'"
      ]
     },
     "execution_count": 87,
     "metadata": {},
     "output_type": "execute_result"
    }
   ],
   "source": [
    "\n",
    "    "
   ]
  },
  {
   "cell_type": "code",
   "execution_count": null,
   "id": "228f6a59",
   "metadata": {},
   "outputs": [],
   "source": []
  }
 ],
 "metadata": {
  "kernelspec": {
   "display_name": "Python 3 (ipykernel)",
   "language": "python",
   "name": "python3"
  },
  "language_info": {
   "codemirror_mode": {
    "name": "ipython",
    "version": 3
   },
   "file_extension": ".py",
   "mimetype": "text/x-python",
   "name": "python",
   "nbconvert_exporter": "python",
   "pygments_lexer": "ipython3",
   "version": "3.9.7"
  }
 },
 "nbformat": 4,
 "nbformat_minor": 5
}
