{
 "cells": [
  {
   "cell_type": "code",
   "execution_count": 10,
   "id": "63ec34d6",
   "metadata": {},
   "outputs": [],
   "source": [
    "# Import required libraries\n",
    "import PyPDF2\n",
    "import textract\n",
    "import re\n",
    "import string\n",
    "import pandas as pd\n",
    "import matplotlib.pyplot as plt\n",
    "%matplotlib inline\n",
    "import docx2txt\n",
    "\n",
    "from gensim.summarization.summarizer import summarize\n",
    "from gensim.summarization import keywords\n",
    "\n",
    "resume = 'Chong Fai Edward Lam Resume.docx'\n",
    "\n",
    "job_description = 'job description - pt form.docx'\n",
    "\n",
    "def read_input_file(filename):\n",
    "\n",
    "    if 'pdf' in filename:\n",
    "        # Open pdf file\n",
    "        pdfFileObj = open('sample_resume_.pdf','rb')\n",
    "\n",
    "        # Read file\n",
    "        pdfReader = PyPDF2.PdfFileReader(pdfFileObj)\n",
    "\n",
    "        # Get total number of pages\n",
    "        num_pages = pdfReader.numPages\n",
    "\n",
    "        # Initialize a count for the number of pages\n",
    "        count = 0\n",
    "\n",
    "        # Initialize a text empty etring variable\n",
    "        text = \"\"\n",
    "\n",
    "        # Extract text from every page on the file\n",
    "        while count < num_pages:\n",
    "            pageObj = pdfReader.getPage(count)\n",
    "            count +=1\n",
    "            text += pageObj.extractText()\n",
    "        \n",
    "    elif 'doc' in filename:\n",
    "\n",
    "        # Passing docx file to process function\n",
    "        text = docx2txt.process(filename)\n",
    "        \n",
    "    return text\n"
   ]
  },
  {
   "cell_type": "code",
   "execution_count": 11,
   "id": "c63e2a61",
   "metadata": {},
   "outputs": [],
   "source": [
    "def text_cleansing(text):\n",
    "    # Convert all strings to lowercase\n",
    "    text = text.lower()\n",
    "\n",
    "    # Remove numbers\n",
    "    text = re.sub(r'\\d+','',text)\n",
    "\n",
    "    # Remove punctuation\n",
    "    return text.translate(str.maketrans('','',string.punctuation))"
   ]
  },
  {
   "cell_type": "code",
   "execution_count": 21,
   "id": "807482c0",
   "metadata": {},
   "outputs": [],
   "source": [
    "resume_txt = text_cleansing(read_input_file(resume))\n",
    "jd_txt = text_cleansing(read_input_file(job_description))"
   ]
  },
  {
   "cell_type": "code",
   "execution_count": 13,
   "id": "a4addf0c",
   "metadata": {},
   "outputs": [
    {
     "data": {
      "text/plain": [
       "'database related skills \\n\\nmysql \\n\\nms server sql\\n\\npostgresql\\n\\nweb application \\n\\nnodejs \\n\\ndjango \\n\\nhtml \\n\\ncss \\n\\njavascript \\n\\najax \\n\\nphp \\n\\nreactjs\\n\\nscraping experience\\n\\naws related services\\n\\ns\\n\\nlambda\\n\\nec\\n\\nrds\\n\\nglue\\n\\nredshift\\n\\nairflow\\n\\nvisualization skills\\n\\ntableau\\n\\npowerbi\\n\\nsoftware development in python\\n\\nproficiency in data warehouse concepts and data engineer related activities such as data mapping data cleansing and ingestion to data warehouse datamart generation using stored procedure etc\\n\\ndata mapping\\n\\ndatamart\\n\\ndata warehouse\\n\\ncomfortable in working in agile development cycle keeping track of jira tickets contacting business for requirement confirmation overseeing the development and contributing in scrum meetings\\n\\nagile\\n\\njira\\n\\nscrum'"
      ]
     },
     "execution_count": 13,
     "metadata": {},
     "output_type": "execute_result"
    }
   ],
   "source": [
    "jd_txt"
   ]
  },
  {
   "cell_type": "code",
   "execution_count": 27,
   "id": "86b12b32",
   "metadata": {},
   "outputs": [],
   "source": [
    "jd_txt_list = jd_txt.split(\"\\n\")\n",
    "jd_txt_list = list(dict.fromkeys(jd_txt_list))\n",
    "\n",
    "matching_word = []\n",
    "not_matching_word = []\n",
    "\n",
    "for word in jd_txt_list:\n",
    "    if word in resume_txt:\n",
    "        matching_word.append(word)\n",
    "    else:\n",
    "        not_matching_word.append(word)\n",
    "        "
   ]
  },
  {
   "cell_type": "code",
   "execution_count": 28,
   "id": "81f01f53",
   "metadata": {},
   "outputs": [
    {
     "data": {
      "text/plain": [
       "['',\n",
       " 's',\n",
       " 'lambda',\n",
       " 'ec',\n",
       " 'glue',\n",
       " 'redshift',\n",
       " 'airflow',\n",
       " 'tableau',\n",
       " 'data mapping',\n",
       " 'data warehouse',\n",
       " 'scrum']"
      ]
     },
     "execution_count": 28,
     "metadata": {},
     "output_type": "execute_result"
    }
   ],
   "source": [
    "matching_word"
   ]
  },
  {
   "cell_type": "code",
   "execution_count": 29,
   "id": "f6d3130f",
   "metadata": {},
   "outputs": [
    {
     "data": {
      "text/plain": [
       "['database related skills ',\n",
       " 'mysql ',\n",
       " 'ms server sql',\n",
       " 'postgresql',\n",
       " 'web application ',\n",
       " 'nodejs ',\n",
       " 'django ',\n",
       " 'html ',\n",
       " 'css ',\n",
       " 'javascript ',\n",
       " 'ajax ',\n",
       " 'php ',\n",
       " 'reactjs',\n",
       " 'scraping experience',\n",
       " 'aws related services',\n",
       " 'rds',\n",
       " 'visualization skills',\n",
       " 'powerbi',\n",
       " 'software development in python',\n",
       " 'proficiency in data warehouse concepts and data engineer related activities such as data mapping data cleansing and ingestion to data warehouse datamart generation using stored procedure etc',\n",
       " 'datamart',\n",
       " 'comfortable in working in agile development cycle keeping track of jira tickets contacting business for requirement confirmation overseeing the development and contributing in scrum meetings',\n",
       " 'agile',\n",
       " 'jira']"
      ]
     },
     "execution_count": 29,
     "metadata": {},
     "output_type": "execute_result"
    }
   ],
   "source": [
    "not_matching_word"
   ]
  },
  {
   "cell_type": "code",
   "execution_count": null,
   "id": "369028f6",
   "metadata": {},
   "outputs": [],
   "source": []
  }
 ],
 "metadata": {
  "kernelspec": {
   "display_name": "Python 3 (ipykernel)",
   "language": "python",
   "name": "python3"
  },
  "language_info": {
   "codemirror_mode": {
    "name": "ipython",
    "version": 3
   },
   "file_extension": ".py",
   "mimetype": "text/x-python",
   "name": "python",
   "nbconvert_exporter": "python",
   "pygments_lexer": "ipython3",
   "version": "3.9.7"
  }
 },
 "nbformat": 4,
 "nbformat_minor": 5
}
